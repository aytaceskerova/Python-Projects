{
 "cells": [
  {
   "cell_type": "code",
   "execution_count": null,
   "id": "4629a73e",
   "metadata": {},
   "outputs": [],
   "source": []
  },
  {
   "cell_type": "code",
   "execution_count": 1,
   "id": "e1a6bcbf",
   "metadata": {},
   "outputs": [],
   "source": [
    "import pandas as pd\n",
    "import numpy as np\n",
    "from bokeh.io import  show, output_notebook \n",
    "\n",
    "from bokeh.palettes import Category20c\n",
    "from bokeh.plotting import figure, show\n",
    "from bokeh.transform import cumsum\n",
    "from math import pi\n",
    "import glob\n",
    "import matplotlib.pyplot as plt\n",
    "%matplotlib inline\n",
    "import seaborn as sns\n",
    "pd.pandas.set_option('display.max_columns', None)\n"
   ]
  },
  {
   "cell_type": "code",
   "execution_count": 2,
   "id": "8c9e5601",
   "metadata": {},
   "outputs": [],
   "source": [
    "data=pd.read_csv('C:\\\\Users\\Acer\\Downloads\\Electronic Products.csv')"
   ]
  },
  {
   "cell_type": "code",
   "execution_count": 3,
   "id": "713e95a6",
   "metadata": {},
   "outputs": [
    {
     "name": "stdout",
     "output_type": "stream",
     "text": [
      "<class 'pandas.core.frame.DataFrame'>\n",
      "RangeIndex: 7249 entries, 0 to 7248\n",
      "Data columns (total 11 columns):\n",
      " #   Column                Non-Null Count  Dtype  \n",
      "---  ------                --------------  -----  \n",
      " 0   Product ID            7249 non-null   object \n",
      " 1   Price                 7249 non-null   float64\n",
      " 2   Product Availability  7249 non-null   object \n",
      " 3   Product Condition     7249 non-null   object \n",
      " 4   Price Currency        7249 non-null   object \n",
      " 5   Is Sale               7249 non-null   bool   \n",
      " 6   Merchant              7249 non-null   object \n",
      " 7   Shipping              4277 non-null   object \n",
      " 8   Brand                 7249 non-null   object \n",
      " 9   Manufacturer          3235 non-null   object \n",
      " 10  Primary Categories    7249 non-null   object \n",
      "dtypes: bool(1), float64(1), object(9)\n",
      "memory usage: 573.5+ KB\n"
     ]
    }
   ],
   "source": [
    "data.info()"
   ]
  },
  {
   "cell_type": "code",
   "execution_count": 4,
   "id": "1ed3e93e",
   "metadata": {},
   "outputs": [
    {
     "data": {
      "text/html": [
       "<div>\n",
       "<style scoped>\n",
       "    .dataframe tbody tr th:only-of-type {\n",
       "        vertical-align: middle;\n",
       "    }\n",
       "\n",
       "    .dataframe tbody tr th {\n",
       "        vertical-align: top;\n",
       "    }\n",
       "\n",
       "    .dataframe thead th {\n",
       "        text-align: right;\n",
       "    }\n",
       "</style>\n",
       "<table border=\"1\" class=\"dataframe\">\n",
       "  <thead>\n",
       "    <tr style=\"text-align: right;\">\n",
       "      <th></th>\n",
       "      <th>Product ID</th>\n",
       "      <th>Price</th>\n",
       "      <th>Product Availability</th>\n",
       "      <th>Product Condition</th>\n",
       "      <th>Price Currency</th>\n",
       "      <th>Is Sale</th>\n",
       "      <th>Merchant</th>\n",
       "      <th>Shipping</th>\n",
       "      <th>Brand</th>\n",
       "      <th>Manufacturer</th>\n",
       "      <th>Primary Categories</th>\n",
       "    </tr>\n",
       "  </thead>\n",
       "  <tbody>\n",
       "    <tr>\n",
       "      <th>0</th>\n",
       "      <td>AVphzgbJLJeJML43fA0o</td>\n",
       "      <td>104.99</td>\n",
       "      <td>Yes</td>\n",
       "      <td>New</td>\n",
       "      <td>USD</td>\n",
       "      <td>False</td>\n",
       "      <td>Bestbuy.com</td>\n",
       "      <td>NaN</td>\n",
       "      <td>Sanus</td>\n",
       "      <td>NaN</td>\n",
       "      <td>Electronics</td>\n",
       "    </tr>\n",
       "    <tr>\n",
       "      <th>1</th>\n",
       "      <td>AVpgMuGwLJeJML43KY_c</td>\n",
       "      <td>64.99</td>\n",
       "      <td>In Stock</td>\n",
       "      <td>New</td>\n",
       "      <td>USD</td>\n",
       "      <td>True</td>\n",
       "      <td>Walmart.com</td>\n",
       "      <td>Expedited</td>\n",
       "      <td>Boytone</td>\n",
       "      <td>Boytone</td>\n",
       "      <td>Electronics</td>\n",
       "    </tr>\n",
       "    <tr>\n",
       "      <th>2</th>\n",
       "      <td>AVpgMuGwLJeJML43KY_c</td>\n",
       "      <td>69.00</td>\n",
       "      <td>In Stock</td>\n",
       "      <td>New</td>\n",
       "      <td>USD</td>\n",
       "      <td>False</td>\n",
       "      <td>Walmart.com</td>\n",
       "      <td>Expedited</td>\n",
       "      <td>Boytone</td>\n",
       "      <td>Boytone</td>\n",
       "      <td>Electronics</td>\n",
       "    </tr>\n",
       "    <tr>\n",
       "      <th>3</th>\n",
       "      <td>AVpgMuGwLJeJML43KY_c</td>\n",
       "      <td>69.99</td>\n",
       "      <td>Yes</td>\n",
       "      <td>New</td>\n",
       "      <td>USD</td>\n",
       "      <td>False</td>\n",
       "      <td>Bestbuy.com</td>\n",
       "      <td>NaN</td>\n",
       "      <td>Boytone</td>\n",
       "      <td>Boytone</td>\n",
       "      <td>Electronics</td>\n",
       "    </tr>\n",
       "    <tr>\n",
       "      <th>4</th>\n",
       "      <td>AVpgMuGwLJeJML43KY_c</td>\n",
       "      <td>66.99</td>\n",
       "      <td>Yes</td>\n",
       "      <td>New</td>\n",
       "      <td>USD</td>\n",
       "      <td>False</td>\n",
       "      <td>Bestbuy.com</td>\n",
       "      <td>NaN</td>\n",
       "      <td>Boytone</td>\n",
       "      <td>Boytone</td>\n",
       "      <td>Electronics</td>\n",
       "    </tr>\n",
       "  </tbody>\n",
       "</table>\n",
       "</div>"
      ],
      "text/plain": [
       "             Product ID   Price Product Availability Product Condition  \\\n",
       "0  AVphzgbJLJeJML43fA0o  104.99                  Yes               New   \n",
       "1  AVpgMuGwLJeJML43KY_c   64.99             In Stock               New   \n",
       "2  AVpgMuGwLJeJML43KY_c   69.00             In Stock               New   \n",
       "3  AVpgMuGwLJeJML43KY_c   69.99                  Yes               New   \n",
       "4  AVpgMuGwLJeJML43KY_c   66.99                  Yes               New   \n",
       "\n",
       "  Price Currency  Is Sale     Merchant   Shipping    Brand Manufacturer  \\\n",
       "0            USD    False  Bestbuy.com        NaN    Sanus          NaN   \n",
       "1            USD     True  Walmart.com  Expedited  Boytone      Boytone   \n",
       "2            USD    False  Walmart.com  Expedited  Boytone      Boytone   \n",
       "3            USD    False  Bestbuy.com        NaN  Boytone      Boytone   \n",
       "4            USD    False  Bestbuy.com        NaN  Boytone      Boytone   \n",
       "\n",
       "  Primary Categories  \n",
       "0        Electronics  \n",
       "1        Electronics  \n",
       "2        Electronics  \n",
       "3        Electronics  \n",
       "4        Electronics  "
      ]
     },
     "execution_count": 4,
     "metadata": {},
     "output_type": "execute_result"
    }
   ],
   "source": [
    "data.head()"
   ]
  },
  {
   "cell_type": "code",
   "execution_count": 5,
   "id": "4e8f24f2",
   "metadata": {},
   "outputs": [
    {
     "data": {
      "text/plain": [
       "(7249, 11)"
      ]
     },
     "execution_count": 5,
     "metadata": {},
     "output_type": "execute_result"
    }
   ],
   "source": [
    "data.shape"
   ]
  },
  {
   "cell_type": "code",
   "execution_count": 6,
   "id": "e933ccee",
   "metadata": {},
   "outputs": [
    {
     "data": {
      "text/plain": [
       "Product ID                 0\n",
       "Price                      0\n",
       "Product Availability       0\n",
       "Product Condition          0\n",
       "Price Currency             0\n",
       "Is Sale                    0\n",
       "Merchant                   0\n",
       "Shipping                2972\n",
       "Brand                      0\n",
       "Manufacturer            4014\n",
       "Primary Categories         0\n",
       "dtype: int64"
      ]
     },
     "execution_count": 6,
     "metadata": {},
     "output_type": "execute_result"
    }
   ],
   "source": [
    "data.isnull().sum()"
   ]
  },
  {
   "cell_type": "code",
   "execution_count": 7,
   "id": "a2db8469",
   "metadata": {},
   "outputs": [],
   "source": [
    "data.replace({\"Yes\":\"In Stock\", \"yes\":\"In Stock\" ,\"No\":\"Out of Stock\"}, inplace= True)"
   ]
  },
  {
   "cell_type": "code",
   "execution_count": 8,
   "id": "edb6867b",
   "metadata": {},
   "outputs": [],
   "source": [
    "data.dropna(inplace=True)\n",
    "data.reset_index(drop=True, inplace= True)"
   ]
  },
  {
   "cell_type": "code",
   "execution_count": 9,
   "id": "58eef5f5",
   "metadata": {},
   "outputs": [
    {
     "data": {
      "text/plain": [
       "(1856, 11)"
      ]
     },
     "execution_count": 9,
     "metadata": {},
     "output_type": "execute_result"
    }
   ],
   "source": [
    "data.shape"
   ]
  },
  {
   "cell_type": "code",
   "execution_count": 10,
   "id": "3c2759c4",
   "metadata": {},
   "outputs": [
    {
     "data": {
      "text/html": [
       "<div>\n",
       "<style scoped>\n",
       "    .dataframe tbody tr th:only-of-type {\n",
       "        vertical-align: middle;\n",
       "    }\n",
       "\n",
       "    .dataframe tbody tr th {\n",
       "        vertical-align: top;\n",
       "    }\n",
       "\n",
       "    .dataframe thead th {\n",
       "        text-align: right;\n",
       "    }\n",
       "</style>\n",
       "<table border=\"1\" class=\"dataframe\">\n",
       "  <thead>\n",
       "    <tr style=\"text-align: right;\">\n",
       "      <th></th>\n",
       "      <th>Product ID</th>\n",
       "      <th>Price</th>\n",
       "      <th>Product Availability</th>\n",
       "      <th>Product Condition</th>\n",
       "      <th>Price Currency</th>\n",
       "      <th>Is Sale</th>\n",
       "      <th>Merchant</th>\n",
       "      <th>Shipping</th>\n",
       "      <th>Brand</th>\n",
       "      <th>Manufacturer</th>\n",
       "      <th>Primary Categories</th>\n",
       "    </tr>\n",
       "  </thead>\n",
       "  <tbody>\n",
       "    <tr>\n",
       "      <th>0</th>\n",
       "      <td>AVpgMuGwLJeJML43KY_c</td>\n",
       "      <td>64.99</td>\n",
       "      <td>In Stock</td>\n",
       "      <td>New</td>\n",
       "      <td>USD</td>\n",
       "      <td>True</td>\n",
       "      <td>Walmart.com</td>\n",
       "      <td>Expedited</td>\n",
       "      <td>Boytone</td>\n",
       "      <td>Boytone</td>\n",
       "      <td>Electronics</td>\n",
       "    </tr>\n",
       "    <tr>\n",
       "      <th>1</th>\n",
       "      <td>AVpgMuGwLJeJML43KY_c</td>\n",
       "      <td>69.00</td>\n",
       "      <td>In Stock</td>\n",
       "      <td>New</td>\n",
       "      <td>USD</td>\n",
       "      <td>False</td>\n",
       "      <td>Walmart.com</td>\n",
       "      <td>Expedited</td>\n",
       "      <td>Boytone</td>\n",
       "      <td>Boytone</td>\n",
       "      <td>Electronics</td>\n",
       "    </tr>\n",
       "    <tr>\n",
       "      <th>2</th>\n",
       "      <td>AVpgMuGwLJeJML43KY_c</td>\n",
       "      <td>66.00</td>\n",
       "      <td>In Stock</td>\n",
       "      <td>New</td>\n",
       "      <td>USD</td>\n",
       "      <td>False</td>\n",
       "      <td>Walmart.com</td>\n",
       "      <td>Expedited</td>\n",
       "      <td>Boytone</td>\n",
       "      <td>Boytone</td>\n",
       "      <td>Electronics</td>\n",
       "    </tr>\n",
       "    <tr>\n",
       "      <th>3</th>\n",
       "      <td>AVpgMuGwLJeJML43KY_c</td>\n",
       "      <td>74.99</td>\n",
       "      <td>In Stock</td>\n",
       "      <td>New</td>\n",
       "      <td>USD</td>\n",
       "      <td>False</td>\n",
       "      <td>California Electronics</td>\n",
       "      <td>Value</td>\n",
       "      <td>Boytone</td>\n",
       "      <td>Boytone</td>\n",
       "      <td>Electronics</td>\n",
       "    </tr>\n",
       "    <tr>\n",
       "      <th>4</th>\n",
       "      <td>AVpgMuGwLJeJML43KY_c</td>\n",
       "      <td>69.99</td>\n",
       "      <td>In Stock</td>\n",
       "      <td>New</td>\n",
       "      <td>USD</td>\n",
       "      <td>False</td>\n",
       "      <td>Walmart.com</td>\n",
       "      <td>Expedited</td>\n",
       "      <td>Boytone</td>\n",
       "      <td>Boytone</td>\n",
       "      <td>Electronics</td>\n",
       "    </tr>\n",
       "  </tbody>\n",
       "</table>\n",
       "</div>"
      ],
      "text/plain": [
       "             Product ID  Price Product Availability Product Condition  \\\n",
       "0  AVpgMuGwLJeJML43KY_c  64.99             In Stock               New   \n",
       "1  AVpgMuGwLJeJML43KY_c  69.00             In Stock               New   \n",
       "2  AVpgMuGwLJeJML43KY_c  66.00             In Stock               New   \n",
       "3  AVpgMuGwLJeJML43KY_c  74.99             In Stock               New   \n",
       "4  AVpgMuGwLJeJML43KY_c  69.99             In Stock               New   \n",
       "\n",
       "  Price Currency  Is Sale                Merchant   Shipping    Brand  \\\n",
       "0            USD     True             Walmart.com  Expedited  Boytone   \n",
       "1            USD    False             Walmart.com  Expedited  Boytone   \n",
       "2            USD    False             Walmart.com  Expedited  Boytone   \n",
       "3            USD    False  California Electronics      Value  Boytone   \n",
       "4            USD    False             Walmart.com  Expedited  Boytone   \n",
       "\n",
       "  Manufacturer Primary Categories  \n",
       "0      Boytone        Electronics  \n",
       "1      Boytone        Electronics  \n",
       "2      Boytone        Electronics  \n",
       "3      Boytone        Electronics  \n",
       "4      Boytone        Electronics  "
      ]
     },
     "execution_count": 10,
     "metadata": {},
     "output_type": "execute_result"
    }
   ],
   "source": [
    "data.head()"
   ]
  },
  {
   "cell_type": "code",
   "execution_count": 11,
   "id": "a09eb214",
   "metadata": {},
   "outputs": [
    {
     "data": {
      "text/html": [
       "<div>\n",
       "<style scoped>\n",
       "    .dataframe tbody tr th:only-of-type {\n",
       "        vertical-align: middle;\n",
       "    }\n",
       "\n",
       "    .dataframe tbody tr th {\n",
       "        vertical-align: top;\n",
       "    }\n",
       "\n",
       "    .dataframe thead th {\n",
       "        text-align: right;\n",
       "    }\n",
       "</style>\n",
       "<table border=\"1\" class=\"dataframe\">\n",
       "  <thead>\n",
       "    <tr style=\"text-align: right;\">\n",
       "      <th></th>\n",
       "      <th>Product ID</th>\n",
       "      <th>Price</th>\n",
       "      <th>Product Availability</th>\n",
       "      <th>Product Condition</th>\n",
       "      <th>Price Currency</th>\n",
       "      <th>Is Sale</th>\n",
       "      <th>Merchant</th>\n",
       "      <th>Shipping</th>\n",
       "      <th>Brand</th>\n",
       "      <th>Manufacturer</th>\n",
       "      <th>Primary Categories</th>\n",
       "    </tr>\n",
       "  </thead>\n",
       "  <tbody>\n",
       "    <tr>\n",
       "      <th>0</th>\n",
       "      <td>AVpgMuGwLJeJML43KY_c</td>\n",
       "      <td>64.99</td>\n",
       "      <td>In Stock</td>\n",
       "      <td>New</td>\n",
       "      <td>USD</td>\n",
       "      <td>True</td>\n",
       "      <td>Walmart.com</td>\n",
       "      <td>Expedited</td>\n",
       "      <td>Boytone</td>\n",
       "      <td>Boytone</td>\n",
       "      <td>Electronics</td>\n",
       "    </tr>\n",
       "    <tr>\n",
       "      <th>1</th>\n",
       "      <td>AVpgMuGwLJeJML43KY_c</td>\n",
       "      <td>69.00</td>\n",
       "      <td>In Stock</td>\n",
       "      <td>New</td>\n",
       "      <td>USD</td>\n",
       "      <td>False</td>\n",
       "      <td>Walmart.com</td>\n",
       "      <td>Expedited</td>\n",
       "      <td>Boytone</td>\n",
       "      <td>Boytone</td>\n",
       "      <td>Electronics</td>\n",
       "    </tr>\n",
       "    <tr>\n",
       "      <th>2</th>\n",
       "      <td>AVpgMuGwLJeJML43KY_c</td>\n",
       "      <td>66.00</td>\n",
       "      <td>In Stock</td>\n",
       "      <td>New</td>\n",
       "      <td>USD</td>\n",
       "      <td>False</td>\n",
       "      <td>Walmart.com</td>\n",
       "      <td>Expedited</td>\n",
       "      <td>Boytone</td>\n",
       "      <td>Boytone</td>\n",
       "      <td>Electronics</td>\n",
       "    </tr>\n",
       "    <tr>\n",
       "      <th>3</th>\n",
       "      <td>AVpgMuGwLJeJML43KY_c</td>\n",
       "      <td>74.99</td>\n",
       "      <td>In Stock</td>\n",
       "      <td>New</td>\n",
       "      <td>USD</td>\n",
       "      <td>False</td>\n",
       "      <td>California Electronics</td>\n",
       "      <td>Value</td>\n",
       "      <td>Boytone</td>\n",
       "      <td>Boytone</td>\n",
       "      <td>Electronics</td>\n",
       "    </tr>\n",
       "    <tr>\n",
       "      <th>4</th>\n",
       "      <td>AVpgMuGwLJeJML43KY_c</td>\n",
       "      <td>69.99</td>\n",
       "      <td>In Stock</td>\n",
       "      <td>New</td>\n",
       "      <td>USD</td>\n",
       "      <td>False</td>\n",
       "      <td>Walmart.com</td>\n",
       "      <td>Expedited</td>\n",
       "      <td>Boytone</td>\n",
       "      <td>Boytone</td>\n",
       "      <td>Electronics</td>\n",
       "    </tr>\n",
       "  </tbody>\n",
       "</table>\n",
       "</div>"
      ],
      "text/plain": [
       "             Product ID  Price Product Availability Product Condition  \\\n",
       "0  AVpgMuGwLJeJML43KY_c  64.99             In Stock               New   \n",
       "1  AVpgMuGwLJeJML43KY_c  69.00             In Stock               New   \n",
       "2  AVpgMuGwLJeJML43KY_c  66.00             In Stock               New   \n",
       "3  AVpgMuGwLJeJML43KY_c  74.99             In Stock               New   \n",
       "4  AVpgMuGwLJeJML43KY_c  69.99             In Stock               New   \n",
       "\n",
       "  Price Currency  Is Sale                Merchant   Shipping    Brand  \\\n",
       "0            USD     True             Walmart.com  Expedited  Boytone   \n",
       "1            USD    False             Walmart.com  Expedited  Boytone   \n",
       "2            USD    False             Walmart.com  Expedited  Boytone   \n",
       "3            USD    False  California Electronics      Value  Boytone   \n",
       "4            USD    False             Walmart.com  Expedited  Boytone   \n",
       "\n",
       "  Manufacturer Primary Categories  \n",
       "0      Boytone        Electronics  \n",
       "1      Boytone        Electronics  \n",
       "2      Boytone        Electronics  \n",
       "3      Boytone        Electronics  \n",
       "4      Boytone        Electronics  "
      ]
     },
     "execution_count": 11,
     "metadata": {},
     "output_type": "execute_result"
    }
   ],
   "source": [
    "data.head()"
   ]
  },
  {
   "cell_type": "code",
   "execution_count": 12,
   "id": "c062a0bd",
   "metadata": {
    "scrolled": true
   },
   "outputs": [
    {
     "data": {
      "text/plain": [
       "1605    29.1927\n",
       "Name: Price, dtype: float64"
      ]
     },
     "execution_count": 12,
     "metadata": {},
     "output_type": "execute_result"
    }
   ],
   "source": [
    "index= data[data['Price Currency'] == 'CAD']\n",
    "where = index['Price']\n",
    "cad_to_usd = where * 0.73\n",
    "cad_to_usd"
   ]
  },
  {
   "cell_type": "code",
   "execution_count": 13,
   "id": "df84517f",
   "metadata": {
    "scrolled": true
   },
   "outputs": [
    {
     "data": {
      "image/png": "[encoded data removed]",
      "text/plain": [
       "<Figure size 640x480 with 1 Axes>"
      ]
     },
     "metadata": {},
     "output_type": "display_data"
    }
   ],
   "source": [
    "sale_bar= data.groupby('Primary Categories')['Price'].sum()\n",
    "primary_categories= sale_bar.index\n",
    "sales = sale_bar.values\n",
    "bar_widths = [0.3, 0.6, 0.4, 0.5]\n",
    "plt.bar(primary_categories, sales, width=bar_widths)\n",
    "for i, v in enumerate(sales):\n",
    "    plt.text(i, v, f'{v:.2f}', ha='center', va='bottom')\n",
    "\n",
    "\n",
    "plt.xlabel('Primary Categories')\n",
    "plt.ylabel('Total Sales')\n",
    "plt.title('Total Sales by Brand')\n",
    "plt.xticks(rotation=45)\n",
    "plt.show()"
   ]
  },
  {
   "cell_type": "code",
   "execution_count": 14,
   "id": "11e94eaa",
   "metadata": {},
   "outputs": [
    {
     "data": {
      "text/plain": [
       "Text(0.5, 1.0, 'Distribution of Product Prices')"
      ]
     },
     "execution_count": 14,
     "metadata": {},
     "output_type": "execute_result"
    },
    {
     "data": {
      "image/png": "[encoded data removed]",
      "text/plain": [
       "<Figure size 640x480 with 1 Axes>"
      ]
     },
     "metadata": {},
     "output_type": "display_data"
    }
   ],
   "source": [
    "in_stock_products = data[data['Product Availability'] == 'In Stock']\n",
    "plt.hist(data['Price'], bins=20, edgecolor='k')\n",
    "\n",
    "plt.xlabel('Product Price')\n",
    "plt.ylabel('Product quantity')\n",
    "plt.title('Distribution of Product Prices')\n",
    "\n"
   ]
  },
  {
   "cell_type": "code",
   "execution_count": 15,
   "id": "178c155f",
   "metadata": {},
   "outputs": [
    {
     "data": {
      "image/png": "[encoded data removed]",
      "text/plain": [
       "<Figure size 640x480 with 1 Axes>"
      ]
     },
     "metadata": {},
     "output_type": "display_data"
    }
   ],
   "source": [
    "scatter1= data.groupby('Brand')['Price'].sum()\n",
    "scatter1 = scatter1.head(10)\n",
    "#ilk 10 brand goturdum\n",
    "product_cond= scatter1.index\n",
    "prices = scatter1.values\n",
    "\n",
    "plt.scatter(product_cond,prices)\n",
    "plt.xticks(rotation=45)\n",
    "plt.xlabel('Primary Categories')\n",
    "plt.ylabel('Total Sales')\n",
    "plt.title('Total Sales by Brand')\n",
    "plt.show()\n"
   ]
  },
  {
   "cell_type": "code",
   "execution_count": null,
   "id": "e20b0a42",
   "metadata": {},
   "outputs": [],
   "source": []
  },
  {
   "cell_type": "code",
   "execution_count": null,
   "id": "9627e480",
   "metadata": {},
   "outputs": [],
   "source": []
  }
 ],
 "metadata": {
  "kernelspec": {
   "display_name": "Python 3 (ipykernel)",
   "language": "python",
   "name": "python3"
  },
  "language_info": {
   "codemirror_mode": {
    "name": "ipython",
    "version": 3
   },
   "file_extension": ".py",
   "mimetype": "text/x-python",
   "name": "python",
   "nbconvert_exporter": "python",
   "pygments_lexer": "ipython3",
   "version": "3.11.5"
  }
 },
 "nbformat": 4,
 "nbformat_minor": 5
}
