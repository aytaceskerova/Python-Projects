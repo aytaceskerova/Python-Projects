{
 "cells": [
  {
   "cell_type": "code",
   "execution_count": 1,
   "id": "258a8553",
   "metadata": {},
   "outputs": [],
   "source": [
    "import pandas as pd\n",
    "import numpy as np\n",
    "from bokeh.io import  show, output_notebook \n",
    "\n",
    "\n",
    "from bokeh.palettes import Category20c\n",
    "from bokeh.plotting import figure, show\n",
    "from bokeh.transform import cumsum\n",
    "from math import pi\n",
    "\n",
    "import glob\n",
    "import matplotlib.pyplot as plt\n",
    "%matplotlib inline\n",
    "import seaborn as sns\n",
    "pd.pandas.set_option('display.max_columns', None)"
   ]
  },
  {
   "cell_type": "code",
   "execution_count": 2,
   "id": "17e7f062",
   "metadata": {},
   "outputs": [],
   "source": [
    "df = pd.read_csv('C:\\\\Users\\\\Acer\\\\Downloads\\\\Supply and Chain problem.csv')"
   ]
  },
  {
   "cell_type": "code",
   "execution_count": 3,
   "id": "93ffdc0c",
   "metadata": {},
   "outputs": [],
   "source": [
    "def supply_copy(df):\n",
    "    df = df.copy()\n",
    "  \n",
    "    return df\n"
   ]
  },
  {
   "cell_type": "code",
   "execution_count": 4,
   "id": "7824621b",
   "metadata": {},
   "outputs": [],
   "source": [
    "x = supply_copy(df)"
   ]
  },
  {
   "cell_type": "code",
   "execution_count": 5,
   "id": "f0d33d58",
   "metadata": {},
   "outputs": [
    {
     "data": {
      "text/plain": [
       "Index(['Unnamed: 0', 'Order ID', 'Order Date', 'Port of Origin', 'Transporter',\n",
       "       'Throughput time', 'Service Level', 'Day count for shipping ahead',\n",
       "       'Ship Late Day count', 'Consumer', 'Product ID',\n",
       "       'Plant Identification Code', 'Port of Destination',\n",
       "       'The number of units', 'Weight'],\n",
       "      dtype='object')"
      ]
     },
     "execution_count": 5,
     "metadata": {},
     "output_type": "execute_result"
    }
   ],
   "source": [
    "x.columns"
   ]
  },
  {
   "cell_type": "code",
   "execution_count": 6,
   "id": "f72b4dcb",
   "metadata": {},
   "outputs": [],
   "source": [
    "x.drop(['Unnamed: 0'], axis=1, inplace = True)"
   ]
  },
  {
   "cell_type": "code",
   "execution_count": 7,
   "id": "87646f29",
   "metadata": {},
   "outputs": [
    {
     "data": {
      "text/plain": [
       "Index(['Order ID', 'Order Date', 'Port of Origin', 'Transporter',\n",
       "       'Throughput time', 'Service Level', 'Day count for shipping ahead',\n",
       "       'Ship Late Day count', 'Consumer', 'Product ID',\n",
       "       'Plant Identification Code', 'Port of Destination',\n",
       "       'The number of units', 'Weight'],\n",
       "      dtype='object')"
      ]
     },
     "execution_count": 7,
     "metadata": {},
     "output_type": "execute_result"
    }
   ],
   "source": [
    "x.columns"
   ]
  },
  {
   "cell_type": "code",
   "execution_count": 8,
   "id": "b5eb4d2b",
   "metadata": {},
   "outputs": [
    {
     "data": {
      "text/plain": [
       "Order ID                        0\n",
       "Order Date                      0\n",
       "Port of Origin                  0\n",
       "Transporter                     0\n",
       "Throughput time                 0\n",
       "Service Level                   0\n",
       "Day count for shipping ahead    0\n",
       "Ship Late Day count             0\n",
       "Consumer                        0\n",
       "Product ID                      0\n",
       "Plant Identification Code       0\n",
       "Port of Destination             0\n",
       "The number of units             0\n",
       "Weight                          0\n",
       "dtype: int64"
      ]
     },
     "execution_count": 8,
     "metadata": {},
     "output_type": "execute_result"
    }
   ],
   "source": [
    "x.isna().sum()"
   ]
  },
  {
   "cell_type": "code",
   "execution_count": 9,
   "id": "2bb24b53",
   "metadata": {},
   "outputs": [],
   "source": [
    "\n",
    "x.rename(columns = {'Plant Identification Code': 'PIC'}, inplace = True)\n"
   ]
  },
  {
   "cell_type": "code",
   "execution_count": 10,
   "id": "3497065d",
   "metadata": {
    "scrolled": true
   },
   "outputs": [
    {
     "data": {
      "text/html": [
       "<div>\n",
       "<style scoped>\n",
       "    .dataframe tbody tr th:only-of-type {\n",
       "        vertical-align: middle;\n",
       "    }\n",
       "\n",
       "    .dataframe tbody tr th {\n",
       "        vertical-align: top;\n",
       "    }\n",
       "\n",
       "    .dataframe thead th {\n",
       "        text-align: right;\n",
       "    }\n",
       "</style>\n",
       "<table border=\"1\" class=\"dataframe\">\n",
       "  <thead>\n",
       "    <tr style=\"text-align: right;\">\n",
       "      <th></th>\n",
       "      <th>Order ID</th>\n",
       "      <th>Order Date</th>\n",
       "      <th>Port of Origin</th>\n",
       "      <th>Transporter</th>\n",
       "      <th>Throughput time</th>\n",
       "      <th>Service Level</th>\n",
       "      <th>Day count for shipping ahead</th>\n",
       "      <th>Ship Late Day count</th>\n",
       "      <th>Consumer</th>\n",
       "      <th>Product ID</th>\n",
       "      <th>PIC</th>\n",
       "      <th>Port of Destination</th>\n",
       "      <th>The number of units</th>\n",
       "      <th>Weight</th>\n",
       "    </tr>\n",
       "  </thead>\n",
       "  <tbody>\n",
       "    <tr>\n",
       "      <th>0</th>\n",
       "      <td>1.447296e+09</td>\n",
       "      <td>2013-05-26</td>\n",
       "      <td>PORT09</td>\n",
       "      <td>V44_3</td>\n",
       "      <td>1</td>\n",
       "      <td>CRF</td>\n",
       "      <td>3</td>\n",
       "      <td>0</td>\n",
       "      <td>V55555_53</td>\n",
       "      <td>1700106</td>\n",
       "      <td>PLANT16</td>\n",
       "      <td>PORT09</td>\n",
       "      <td>808</td>\n",
       "      <td>14.30</td>\n",
       "    </tr>\n",
       "    <tr>\n",
       "      <th>1</th>\n",
       "      <td>1.447158e+09</td>\n",
       "      <td>2013-05-26</td>\n",
       "      <td>PORT09</td>\n",
       "      <td>V44_3</td>\n",
       "      <td>1</td>\n",
       "      <td>CRF</td>\n",
       "      <td>3</td>\n",
       "      <td>0</td>\n",
       "      <td>V55555_53</td>\n",
       "      <td>1700106</td>\n",
       "      <td>PLANT16</td>\n",
       "      <td>PORT09</td>\n",
       "      <td>3188</td>\n",
       "      <td>87.94</td>\n",
       "    </tr>\n",
       "    <tr>\n",
       "      <th>2</th>\n",
       "      <td>1.447139e+09</td>\n",
       "      <td>2013-05-26</td>\n",
       "      <td>PORT09</td>\n",
       "      <td>V44_3</td>\n",
       "      <td>1</td>\n",
       "      <td>CRF</td>\n",
       "      <td>3</td>\n",
       "      <td>0</td>\n",
       "      <td>V55555_53</td>\n",
       "      <td>1700106</td>\n",
       "      <td>PLANT16</td>\n",
       "      <td>PORT09</td>\n",
       "      <td>2331</td>\n",
       "      <td>61.20</td>\n",
       "    </tr>\n",
       "    <tr>\n",
       "      <th>3</th>\n",
       "      <td>1.447364e+09</td>\n",
       "      <td>2013-05-26</td>\n",
       "      <td>PORT09</td>\n",
       "      <td>V44_3</td>\n",
       "      <td>1</td>\n",
       "      <td>CRF</td>\n",
       "      <td>3</td>\n",
       "      <td>0</td>\n",
       "      <td>V55555_53</td>\n",
       "      <td>1700106</td>\n",
       "      <td>PLANT16</td>\n",
       "      <td>PORT09</td>\n",
       "      <td>847</td>\n",
       "      <td>16.16</td>\n",
       "    </tr>\n",
       "    <tr>\n",
       "      <th>4</th>\n",
       "      <td>1.447364e+09</td>\n",
       "      <td>2013-05-26</td>\n",
       "      <td>PORT09</td>\n",
       "      <td>V44_3</td>\n",
       "      <td>1</td>\n",
       "      <td>CRF</td>\n",
       "      <td>3</td>\n",
       "      <td>0</td>\n",
       "      <td>V55555_53</td>\n",
       "      <td>1700106</td>\n",
       "      <td>PLANT16</td>\n",
       "      <td>PORT09</td>\n",
       "      <td>2163</td>\n",
       "      <td>52.34</td>\n",
       "    </tr>\n",
       "  </tbody>\n",
       "</table>\n",
       "</div>"
      ],
      "text/plain": [
       "       Order ID  Order Date Port of Origin Transporter  Throughput time  \\\n",
       "0  1.447296e+09  2013-05-26         PORT09       V44_3                1   \n",
       "1  1.447158e+09  2013-05-26         PORT09       V44_3                1   \n",
       "2  1.447139e+09  2013-05-26         PORT09       V44_3                1   \n",
       "3  1.447364e+09  2013-05-26         PORT09       V44_3                1   \n",
       "4  1.447364e+09  2013-05-26         PORT09       V44_3                1   \n",
       "\n",
       "  Service Level  Day count for shipping ahead  Ship Late Day count   Consumer  \\\n",
       "0           CRF                             3                    0  V55555_53   \n",
       "1           CRF                             3                    0  V55555_53   \n",
       "2           CRF                             3                    0  V55555_53   \n",
       "3           CRF                             3                    0  V55555_53   \n",
       "4           CRF                             3                    0  V55555_53   \n",
       "\n",
       "   Product ID      PIC Port of Destination  The number of units  Weight  \n",
       "0     1700106  PLANT16              PORT09                  808   14.30  \n",
       "1     1700106  PLANT16              PORT09                 3188   87.94  \n",
       "2     1700106  PLANT16              PORT09                 2331   61.20  \n",
       "3     1700106  PLANT16              PORT09                  847   16.16  \n",
       "4     1700106  PLANT16              PORT09                 2163   52.34  "
      ]
     },
     "execution_count": 10,
     "metadata": {},
     "output_type": "execute_result"
    }
   ],
   "source": [
    "x.head()"
   ]
  },
  {
   "cell_type": "code",
   "execution_count": 14,
   "id": "9901e89c",
   "metadata": {},
   "outputs": [
    {
     "name": "stdout",
     "output_type": "stream",
     "text": [
      "day_counts_1: 2123\n",
      "day_counts_4: 143\n",
      "day_counts_0: 411\n",
      "day_counts_2: 6480\n",
      "day_counts_3: 58\n"
     ]
    }
   ],
   "source": [
    "values_to_count = x['Throughput time'].unique()\n",
    "\n",
    "day_counts = {}\n",
    "\n",
    "for value in values_to_count:\n",
    "    day_count = x[x['Throughput time'] == value].shape[0]\n",
    "    day_counts[f'day_counts_{value}'] = day_count\n",
    "\n",
    "for key, value in day_counts.items():\n",
    "    print(f'{key}: {value}')\n",
    "\n"
   ]
  },
  {
   "cell_type": "code",
   "execution_count": 15,
   "id": "530bf29a",
   "metadata": {},
   "outputs": [
    {
     "data": {
      "image/png": "[encoded data removed]",
      "text/plain": [
       "<Figure size 640x480 with 1 Axes>"
      ]
     },
     "metadata": {},
     "output_type": "display_data"
    }
   ],
   "source": [
    "values_to_count = x['Throughput time'].value_counts()\n",
    "\n",
    "values_to_count.plot(kind = 'pie', autopct = '%1.1f%%')\n",
    "plt.axis('equal') \n",
    "plt.show()"
   ]
  },
  {
   "cell_type": "code",
   "execution_count": 13,
   "id": "dc0b69b0",
   "metadata": {},
   "outputs": [
    {
     "data": {
      "image/png": "[encoded data removed]",
      "text/plain": [
       "<Figure size 640x480 with 1 Axes>"
      ]
     },
     "metadata": {},
     "output_type": "display_data"
    }
   ],
   "source": [
    "grouped_data = x.groupby('PIC')['Weight'].nunique()\n",
    "grouped_data.plot(kind = 'bar')\n",
    "plt.xlabel('PIC')  \n",
    "plt.ylabel('Number of Unique Weights')\n",
    "plt.show()"
   ]
  },
  {
   "cell_type": "code",
   "execution_count": null,
   "id": "54856bf7",
   "metadata": {},
   "outputs": [],
   "source": []
  }
 ],
 "metadata": {
  "kernelspec": {
   "display_name": "Python 3 (ipykernel)",
   "language": "python",
   "name": "python3"
  },
  "language_info": {
   "codemirror_mode": {
    "name": "ipython",
    "version": 3
   },
   "file_extension": ".py",
   "mimetype": "text/x-python",
   "name": "python",
   "nbconvert_exporter": "python",
   "pygments_lexer": "ipython3",
   "version": "3.11.5"
  }
 },
 "nbformat": 4,
 "nbformat_minor": 5
}
